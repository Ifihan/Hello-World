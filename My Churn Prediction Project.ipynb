{
 "cells": [
  {
   "cell_type": "code",
   "execution_count": 1,
   "metadata": {},
   "outputs": [],
   "source": [
    "import pandas as pd\n",
    "import numpy as np\n",
    "import matplotlib.pyplot as plt\n",
    "import seaborn as sns"
   ]
  },
  {
   "cell_type": "code",
   "execution_count": 2,
   "metadata": {},
   "outputs": [],
   "source": [
    "customer = pd.read_csv('Train data.csv')"
   ]
  },
  {
   "cell_type": "code",
   "execution_count": 3,
   "metadata": {},
   "outputs": [
    {
     "data": {
      "text/html": [
       "<div>\n",
       "<style scoped>\n",
       "    .dataframe tbody tr th:only-of-type {\n",
       "        vertical-align: middle;\n",
       "    }\n",
       "\n",
       "    .dataframe tbody tr th {\n",
       "        vertical-align: top;\n",
       "    }\n",
       "\n",
       "    .dataframe thead th {\n",
       "        text-align: right;\n",
       "    }\n",
       "</style>\n",
       "<table border=\"1\" class=\"dataframe\">\n",
       "  <thead>\n",
       "    <tr style=\"text-align: right;\">\n",
       "      <th></th>\n",
       "      <th>Customer ID</th>\n",
       "      <th>network_age</th>\n",
       "      <th>Customer tenure in month</th>\n",
       "      <th>Total Spend in Months 1 and 2 of 2017</th>\n",
       "      <th>Total SMS Spend</th>\n",
       "      <th>Total Data Spend</th>\n",
       "      <th>Total Data Consumption</th>\n",
       "      <th>Total Unique Calls</th>\n",
       "      <th>Total Onnet spend</th>\n",
       "      <th>Total Offnet spend</th>\n",
       "      <th>Total Call centre complaint calls</th>\n",
       "      <th>Network type subscription in Month 1</th>\n",
       "      <th>Network type subscription in Month 2</th>\n",
       "      <th>Most Loved Competitor network in in Month 1</th>\n",
       "      <th>Most Loved Competitor network in in Month 2</th>\n",
       "      <th>Churn Status</th>\n",
       "    </tr>\n",
       "  </thead>\n",
       "  <tbody>\n",
       "    <tr>\n",
       "      <th>0</th>\n",
       "      <td>ADF0039</td>\n",
       "      <td>123.0</td>\n",
       "      <td>4.10</td>\n",
       "      <td>76.7140</td>\n",
       "      <td>0.00</td>\n",
       "      <td>1.25</td>\n",
       "      <td>1.4951</td>\n",
       "      <td>14.0</td>\n",
       "      <td>564.0</td>\n",
       "      <td>6408.0</td>\n",
       "      <td>2.0</td>\n",
       "      <td>2G</td>\n",
       "      <td>2G</td>\n",
       "      <td>Uxaa</td>\n",
       "      <td>Mango</td>\n",
       "      <td>0.0</td>\n",
       "    </tr>\n",
       "    <tr>\n",
       "      <th>1</th>\n",
       "      <td>ADF0041</td>\n",
       "      <td>1316.0</td>\n",
       "      <td>43.87</td>\n",
       "      <td>98.8904</td>\n",
       "      <td>4.14</td>\n",
       "      <td>1.25</td>\n",
       "      <td>1.0244</td>\n",
       "      <td>27.0</td>\n",
       "      <td>1626.0</td>\n",
       "      <td>4373.0</td>\n",
       "      <td>1.0</td>\n",
       "      <td>2G</td>\n",
       "      <td>2G</td>\n",
       "      <td>Uxaa</td>\n",
       "      <td>Mango</td>\n",
       "      <td>0.0</td>\n",
       "    </tr>\n",
       "    <tr>\n",
       "      <th>2</th>\n",
       "      <td>ADF0051</td>\n",
       "      <td>2385.0</td>\n",
       "      <td>79.50</td>\n",
       "      <td>372.6300</td>\n",
       "      <td>3.51</td>\n",
       "      <td>1.25</td>\n",
       "      <td>6.0898</td>\n",
       "      <td>119.0</td>\n",
       "      <td>10411.0</td>\n",
       "      <td>22039.0</td>\n",
       "      <td>1.0</td>\n",
       "      <td>2G</td>\n",
       "      <td>2G</td>\n",
       "      <td>Weematel</td>\n",
       "      <td>Mango</td>\n",
       "      <td>0.0</td>\n",
       "    </tr>\n",
       "    <tr>\n",
       "      <th>3</th>\n",
       "      <td>ADF0059</td>\n",
       "      <td>1614.0</td>\n",
       "      <td>53.80</td>\n",
       "      <td>530.2000</td>\n",
       "      <td>6.85</td>\n",
       "      <td>1.25</td>\n",
       "      <td>3.3447</td>\n",
       "      <td>69.0</td>\n",
       "      <td>6822.0</td>\n",
       "      <td>6274.0</td>\n",
       "      <td>1.0</td>\n",
       "      <td>2G</td>\n",
       "      <td>2G</td>\n",
       "      <td>0</td>\n",
       "      <td>Mango</td>\n",
       "      <td>0.0</td>\n",
       "    </tr>\n",
       "    <tr>\n",
       "      <th>4</th>\n",
       "      <td>ADF0060</td>\n",
       "      <td>2175.0</td>\n",
       "      <td>72.50</td>\n",
       "      <td>554.1300</td>\n",
       "      <td>6.99</td>\n",
       "      <td>153.75</td>\n",
       "      <td>673204.0342</td>\n",
       "      <td>33.0</td>\n",
       "      <td>3387.0</td>\n",
       "      <td>7241.0</td>\n",
       "      <td>1.0</td>\n",
       "      <td>2G</td>\n",
       "      <td>3G</td>\n",
       "      <td>Weematel</td>\n",
       "      <td>Mango</td>\n",
       "      <td>0.0</td>\n",
       "    </tr>\n",
       "  </tbody>\n",
       "</table>\n",
       "</div>"
      ],
      "text/plain": [
       "  Customer ID  network_age  Customer tenure in month  \\\n",
       "0     ADF0039        123.0                      4.10   \n",
       "1     ADF0041       1316.0                     43.87   \n",
       "2     ADF0051       2385.0                     79.50   \n",
       "3     ADF0059       1614.0                     53.80   \n",
       "4     ADF0060       2175.0                     72.50   \n",
       "\n",
       "   Total Spend in Months 1 and 2 of 2017  Total SMS Spend  Total Data Spend  \\\n",
       "0                                76.7140             0.00              1.25   \n",
       "1                                98.8904             4.14              1.25   \n",
       "2                               372.6300             3.51              1.25   \n",
       "3                               530.2000             6.85              1.25   \n",
       "4                               554.1300             6.99            153.75   \n",
       "\n",
       "   Total Data Consumption  Total Unique Calls  Total Onnet spend   \\\n",
       "0                  1.4951                14.0               564.0   \n",
       "1                  1.0244                27.0              1626.0   \n",
       "2                  6.0898               119.0             10411.0   \n",
       "3                  3.3447                69.0              6822.0   \n",
       "4             673204.0342                33.0              3387.0   \n",
       "\n",
       "   Total Offnet spend  Total Call centre complaint calls  \\\n",
       "0              6408.0                                2.0   \n",
       "1              4373.0                                1.0   \n",
       "2             22039.0                                1.0   \n",
       "3              6274.0                                1.0   \n",
       "4              7241.0                                1.0   \n",
       "\n",
       "  Network type subscription in Month 1 Network type subscription in Month 2  \\\n",
       "0                                   2G                                   2G   \n",
       "1                                   2G                                   2G   \n",
       "2                                   2G                                   2G   \n",
       "3                                   2G                                   2G   \n",
       "4                                   2G                                   3G   \n",
       "\n",
       "  Most Loved Competitor network in in Month 1  \\\n",
       "0                                        Uxaa   \n",
       "1                                        Uxaa   \n",
       "2                                    Weematel   \n",
       "3                                           0   \n",
       "4                                    Weematel   \n",
       "\n",
       "  Most Loved Competitor network in in Month 2  Churn Status  \n",
       "0                                       Mango           0.0  \n",
       "1                                       Mango           0.0  \n",
       "2                                       Mango           0.0  \n",
       "3                                       Mango           0.0  \n",
       "4                                       Mango           0.0  "
      ]
     },
     "execution_count": 3,
     "metadata": {},
     "output_type": "execute_result"
    }
   ],
   "source": [
    "customer.head()"
   ]
  },
  {
   "cell_type": "code",
   "execution_count": 4,
   "metadata": {},
   "outputs": [
    {
     "name": "stdout",
     "output_type": "stream",
     "text": [
      "<class 'pandas.core.frame.DataFrame'>\n",
      "RangeIndex: 1401 entries, 0 to 1400\n",
      "Data columns (total 16 columns):\n",
      "Customer ID                                    1400 non-null object\n",
      "network_age                                    1400 non-null float64\n",
      "Customer tenure in month                       1400 non-null float64\n",
      "Total Spend in Months 1 and 2 of 2017          1400 non-null float64\n",
      "Total SMS Spend                                1400 non-null float64\n",
      "Total Data Spend                               1400 non-null float64\n",
      "Total Data Consumption                         1400 non-null float64\n",
      "Total Unique Calls                             1400 non-null float64\n",
      "Total Onnet spend                              1400 non-null float64\n",
      "Total Offnet spend                             1400 non-null float64\n",
      "Total Call centre complaint calls              1400 non-null float64\n",
      "Network type subscription in Month 1           1225 non-null object\n",
      "Network type subscription in Month 2           1256 non-null object\n",
      "Most Loved Competitor network in in Month 1    1399 non-null object\n",
      "Most Loved Competitor network in in Month 2    1399 non-null object\n",
      "Churn Status                                   1400 non-null float64\n",
      "dtypes: float64(11), object(5)\n",
      "memory usage: 147.8+ KB\n"
     ]
    }
   ],
   "source": [
    "customer.info()"
   ]
  },
  {
   "cell_type": "code",
   "execution_count": 5,
   "metadata": {},
   "outputs": [
    {
     "data": {
      "text/plain": [
       "<matplotlib.axes._subplots.AxesSubplot at 0xc6e1450>"
      ]
     },
     "execution_count": 5,
     "metadata": {},
     "output_type": "execute_result"
    },
    {
     "data": {
      "image/png": "[encoded data removed]",
      "text/plain": [
       "<Figure size 432x288 with 1 Axes>"
      ]
     },
     "metadata": {
      "needs_background": "light"
     },
     "output_type": "display_data"
    }
   ],
   "source": [
    "sns.heatmap(customer.isnull(), cbar=False)"
   ]
  },
  {
   "cell_type": "code",
   "execution_count": 6,
   "metadata": {},
   "outputs": [
    {
     "data": {
      "text/plain": [
       "Customer ID                                      1\n",
       "network_age                                      1\n",
       "Customer tenure in month                         1\n",
       "Total Spend in Months 1 and 2 of 2017            1\n",
       "Total SMS Spend                                  1\n",
       "Total Data Spend                                 1\n",
       "Total Data Consumption                           1\n",
       "Total Unique Calls                               1\n",
       "Total Onnet spend                                1\n",
       "Total Offnet spend                               1\n",
       "Total Call centre complaint calls                1\n",
       "Network type subscription in Month 1           176\n",
       "Network type subscription in Month 2           145\n",
       "Most Loved Competitor network in in Month 1      2\n",
       "Most Loved Competitor network in in Month 2      2\n",
       "Churn Status                                     1\n",
       "dtype: int64"
      ]
     },
     "execution_count": 6,
     "metadata": {},
     "output_type": "execute_result"
    }
   ],
   "source": [
    "customer.isnull().sum()"
   ]
  },
  {
   "cell_type": "code",
   "execution_count": 7,
   "metadata": {},
   "outputs": [
    {
     "data": {
      "text/plain": [
       "<matplotlib.axes._subplots.AxesSubplot at 0xd7a3650>"
      ]
     },
     "execution_count": 7,
     "metadata": {},
     "output_type": "execute_result"
    },
    {
     "data": {
      "image/png": "[encoded data removed]",
      "text/plain": [
       "<Figure size 432x288 with 2 Axes>"
      ]
     },
     "metadata": {
      "needs_background": "light"
     },
     "output_type": "display_data"
    }
   ],
   "source": [
    "sns.heatmap(customer.corr())"
   ]
  },
  {
   "cell_type": "code",
   "execution_count": 8,
   "metadata": {},
   "outputs": [
    {
     "data": {
      "text/html": [
       "<div>\n",
       "<style scoped>\n",
       "    .dataframe tbody tr th:only-of-type {\n",
       "        vertical-align: middle;\n",
       "    }\n",
       "\n",
       "    .dataframe tbody tr th {\n",
       "        vertical-align: top;\n",
       "    }\n",
       "\n",
       "    .dataframe thead th {\n",
       "        text-align: right;\n",
       "    }\n",
       "</style>\n",
       "<table border=\"1\" class=\"dataframe\">\n",
       "  <thead>\n",
       "    <tr style=\"text-align: right;\">\n",
       "      <th></th>\n",
       "      <th>network_age</th>\n",
       "      <th>Customer tenure in month</th>\n",
       "      <th>Total Spend in Months 1 and 2 of 2017</th>\n",
       "      <th>Total SMS Spend</th>\n",
       "      <th>Total Data Spend</th>\n",
       "      <th>Total Data Consumption</th>\n",
       "      <th>Total Unique Calls</th>\n",
       "      <th>Total Onnet spend</th>\n",
       "      <th>Total Offnet spend</th>\n",
       "      <th>Total Call centre complaint calls</th>\n",
       "      <th>Churn Status</th>\n",
       "    </tr>\n",
       "  </thead>\n",
       "  <tbody>\n",
       "    <tr>\n",
       "      <th>network_age</th>\n",
       "      <td>1.000000</td>\n",
       "      <td>1.000000</td>\n",
       "      <td>0.141199</td>\n",
       "      <td>-0.041827</td>\n",
       "      <td>0.042025</td>\n",
       "      <td>-0.060496</td>\n",
       "      <td>0.227381</td>\n",
       "      <td>0.014764</td>\n",
       "      <td>0.091263</td>\n",
       "      <td>0.065511</td>\n",
       "      <td>-0.124234</td>\n",
       "    </tr>\n",
       "    <tr>\n",
       "      <th>Customer tenure in month</th>\n",
       "      <td>1.000000</td>\n",
       "      <td>1.000000</td>\n",
       "      <td>0.141199</td>\n",
       "      <td>-0.041827</td>\n",
       "      <td>0.042027</td>\n",
       "      <td>-0.060496</td>\n",
       "      <td>0.227383</td>\n",
       "      <td>0.014763</td>\n",
       "      <td>0.091265</td>\n",
       "      <td>0.065511</td>\n",
       "      <td>-0.124233</td>\n",
       "    </tr>\n",
       "    <tr>\n",
       "      <th>Total Spend in Months 1 and 2 of 2017</th>\n",
       "      <td>0.141199</td>\n",
       "      <td>0.141199</td>\n",
       "      <td>1.000000</td>\n",
       "      <td>0.392599</td>\n",
       "      <td>0.666606</td>\n",
       "      <td>0.117090</td>\n",
       "      <td>0.576904</td>\n",
       "      <td>0.449958</td>\n",
       "      <td>0.745388</td>\n",
       "      <td>0.090021</td>\n",
       "      <td>-0.029612</td>\n",
       "    </tr>\n",
       "    <tr>\n",
       "      <th>Total SMS Spend</th>\n",
       "      <td>-0.041827</td>\n",
       "      <td>-0.041827</td>\n",
       "      <td>0.392599</td>\n",
       "      <td>1.000000</td>\n",
       "      <td>0.355048</td>\n",
       "      <td>-0.039647</td>\n",
       "      <td>0.077086</td>\n",
       "      <td>0.199451</td>\n",
       "      <td>0.274817</td>\n",
       "      <td>0.021172</td>\n",
       "      <td>0.099149</td>\n",
       "    </tr>\n",
       "    <tr>\n",
       "      <th>Total Data Spend</th>\n",
       "      <td>0.042025</td>\n",
       "      <td>0.042027</td>\n",
       "      <td>0.666606</td>\n",
       "      <td>0.355048</td>\n",
       "      <td>1.000000</td>\n",
       "      <td>0.093790</td>\n",
       "      <td>0.108616</td>\n",
       "      <td>0.162831</td>\n",
       "      <td>0.306002</td>\n",
       "      <td>0.076387</td>\n",
       "      <td>0.036429</td>\n",
       "    </tr>\n",
       "    <tr>\n",
       "      <th>Total Data Consumption</th>\n",
       "      <td>-0.060496</td>\n",
       "      <td>-0.060496</td>\n",
       "      <td>0.117090</td>\n",
       "      <td>-0.039647</td>\n",
       "      <td>0.093790</td>\n",
       "      <td>1.000000</td>\n",
       "      <td>-0.007566</td>\n",
       "      <td>-0.058647</td>\n",
       "      <td>0.004203</td>\n",
       "      <td>0.026020</td>\n",
       "      <td>-0.142138</td>\n",
       "    </tr>\n",
       "    <tr>\n",
       "      <th>Total Unique Calls</th>\n",
       "      <td>0.227381</td>\n",
       "      <td>0.227383</td>\n",
       "      <td>0.576904</td>\n",
       "      <td>0.077086</td>\n",
       "      <td>0.108616</td>\n",
       "      <td>-0.007566</td>\n",
       "      <td>1.000000</td>\n",
       "      <td>0.283787</td>\n",
       "      <td>0.518272</td>\n",
       "      <td>0.065532</td>\n",
       "      <td>-0.134055</td>\n",
       "    </tr>\n",
       "    <tr>\n",
       "      <th>Total Onnet spend</th>\n",
       "      <td>0.014764</td>\n",
       "      <td>0.014763</td>\n",
       "      <td>0.449958</td>\n",
       "      <td>0.199451</td>\n",
       "      <td>0.162831</td>\n",
       "      <td>-0.058647</td>\n",
       "      <td>0.283787</td>\n",
       "      <td>1.000000</td>\n",
       "      <td>0.488615</td>\n",
       "      <td>0.033553</td>\n",
       "      <td>-0.004788</td>\n",
       "    </tr>\n",
       "    <tr>\n",
       "      <th>Total Offnet spend</th>\n",
       "      <td>0.091263</td>\n",
       "      <td>0.091265</td>\n",
       "      <td>0.745388</td>\n",
       "      <td>0.274817</td>\n",
       "      <td>0.306002</td>\n",
       "      <td>0.004203</td>\n",
       "      <td>0.518272</td>\n",
       "      <td>0.488615</td>\n",
       "      <td>1.000000</td>\n",
       "      <td>0.044182</td>\n",
       "      <td>0.103442</td>\n",
       "    </tr>\n",
       "    <tr>\n",
       "      <th>Total Call centre complaint calls</th>\n",
       "      <td>0.065511</td>\n",
       "      <td>0.065511</td>\n",
       "      <td>0.090021</td>\n",
       "      <td>0.021172</td>\n",
       "      <td>0.076387</td>\n",
       "      <td>0.026020</td>\n",
       "      <td>0.065532</td>\n",
       "      <td>0.033553</td>\n",
       "      <td>0.044182</td>\n",
       "      <td>1.000000</td>\n",
       "      <td>-0.071591</td>\n",
       "    </tr>\n",
       "    <tr>\n",
       "      <th>Churn Status</th>\n",
       "      <td>-0.124234</td>\n",
       "      <td>-0.124233</td>\n",
       "      <td>-0.029612</td>\n",
       "      <td>0.099149</td>\n",
       "      <td>0.036429</td>\n",
       "      <td>-0.142138</td>\n",
       "      <td>-0.134055</td>\n",
       "      <td>-0.004788</td>\n",
       "      <td>0.103442</td>\n",
       "      <td>-0.071591</td>\n",
       "      <td>1.000000</td>\n",
       "    </tr>\n",
       "  </tbody>\n",
       "</table>\n",
       "</div>"
      ],
      "text/plain": [
       "                                       network_age  Customer tenure in month  \\\n",
       "network_age                               1.000000                  1.000000   \n",
       "Customer tenure in month                  1.000000                  1.000000   \n",
       "Total Spend in Months 1 and 2 of 2017     0.141199                  0.141199   \n",
       "Total SMS Spend                          -0.041827                 -0.041827   \n",
       "Total Data Spend                          0.042025                  0.042027   \n",
       "Total Data Consumption                   -0.060496                 -0.060496   \n",
       "Total Unique Calls                        0.227381                  0.227383   \n",
       "Total Onnet spend                         0.014764                  0.014763   \n",
       "Total Offnet spend                        0.091263                  0.091265   \n",
       "Total Call centre complaint calls         0.065511                  0.065511   \n",
       "Churn Status                             -0.124234                 -0.124233   \n",
       "\n",
       "                                       Total Spend in Months 1 and 2 of 2017  \\\n",
       "network_age                                                         0.141199   \n",
       "Customer tenure in month                                            0.141199   \n",
       "Total Spend in Months 1 and 2 of 2017                               1.000000   \n",
       "Total SMS Spend                                                     0.392599   \n",
       "Total Data Spend                                                    0.666606   \n",
       "Total Data Consumption                                              0.117090   \n",
       "Total Unique Calls                                                  0.576904   \n",
       "Total Onnet spend                                                   0.449958   \n",
       "Total Offnet spend                                                  0.745388   \n",
       "Total Call centre complaint calls                                   0.090021   \n",
       "Churn Status                                                       -0.029612   \n",
       "\n",
       "                                       Total SMS Spend  Total Data Spend  \\\n",
       "network_age                                  -0.041827          0.042025   \n",
       "Customer tenure in month                     -0.041827          0.042027   \n",
       "Total Spend in Months 1 and 2 of 2017         0.392599          0.666606   \n",
       "Total SMS Spend                               1.000000          0.355048   \n",
       "Total Data Spend                              0.355048          1.000000   \n",
       "Total Data Consumption                       -0.039647          0.093790   \n",
       "Total Unique Calls                            0.077086          0.108616   \n",
       "Total Onnet spend                             0.199451          0.162831   \n",
       "Total Offnet spend                            0.274817          0.306002   \n",
       "Total Call centre complaint calls             0.021172          0.076387   \n",
       "Churn Status                                  0.099149          0.036429   \n",
       "\n",
       "                                       Total Data Consumption  \\\n",
       "network_age                                         -0.060496   \n",
       "Customer tenure in month                            -0.060496   \n",
       "Total Spend in Months 1 and 2 of 2017                0.117090   \n",
       "Total SMS Spend                                     -0.039647   \n",
       "Total Data Spend                                     0.093790   \n",
       "Total Data Consumption                               1.000000   \n",
       "Total Unique Calls                                  -0.007566   \n",
       "Total Onnet spend                                   -0.058647   \n",
       "Total Offnet spend                                   0.004203   \n",
       "Total Call centre complaint calls                    0.026020   \n",
       "Churn Status                                        -0.142138   \n",
       "\n",
       "                                       Total Unique Calls  Total Onnet spend   \\\n",
       "network_age                                      0.227381            0.014764   \n",
       "Customer tenure in month                         0.227383            0.014763   \n",
       "Total Spend in Months 1 and 2 of 2017            0.576904            0.449958   \n",
       "Total SMS Spend                                  0.077086            0.199451   \n",
       "Total Data Spend                                 0.108616            0.162831   \n",
       "Total Data Consumption                          -0.007566           -0.058647   \n",
       "Total Unique Calls                               1.000000            0.283787   \n",
       "Total Onnet spend                                0.283787            1.000000   \n",
       "Total Offnet spend                               0.518272            0.488615   \n",
       "Total Call centre complaint calls                0.065532            0.033553   \n",
       "Churn Status                                    -0.134055           -0.004788   \n",
       "\n",
       "                                       Total Offnet spend  \\\n",
       "network_age                                      0.091263   \n",
       "Customer tenure in month                         0.091265   \n",
       "Total Spend in Months 1 and 2 of 2017            0.745388   \n",
       "Total SMS Spend                                  0.274817   \n",
       "Total Data Spend                                 0.306002   \n",
       "Total Data Consumption                           0.004203   \n",
       "Total Unique Calls                               0.518272   \n",
       "Total Onnet spend                                0.488615   \n",
       "Total Offnet spend                               1.000000   \n",
       "Total Call centre complaint calls                0.044182   \n",
       "Churn Status                                     0.103442   \n",
       "\n",
       "                                       Total Call centre complaint calls  \\\n",
       "network_age                                                     0.065511   \n",
       "Customer tenure in month                                        0.065511   \n",
       "Total Spend in Months 1 and 2 of 2017                           0.090021   \n",
       "Total SMS Spend                                                 0.021172   \n",
       "Total Data Spend                                                0.076387   \n",
       "Total Data Consumption                                          0.026020   \n",
       "Total Unique Calls                                              0.065532   \n",
       "Total Onnet spend                                               0.033553   \n",
       "Total Offnet spend                                              0.044182   \n",
       "Total Call centre complaint calls                               1.000000   \n",
       "Churn Status                                                   -0.071591   \n",
       "\n",
       "                                       Churn Status  \n",
       "network_age                               -0.124234  \n",
       "Customer tenure in month                  -0.124233  \n",
       "Total Spend in Months 1 and 2 of 2017     -0.029612  \n",
       "Total SMS Spend                            0.099149  \n",
       "Total Data Spend                           0.036429  \n",
       "Total Data Consumption                    -0.142138  \n",
       "Total Unique Calls                        -0.134055  \n",
       "Total Onnet spend                         -0.004788  \n",
       "Total Offnet spend                         0.103442  \n",
       "Total Call centre complaint calls         -0.071591  \n",
       "Churn Status                               1.000000  "
      ]
     },
     "execution_count": 8,
     "metadata": {},
     "output_type": "execute_result"
    }
   ],
   "source": [
    "customer.corr()"
   ]
  },
  {
   "cell_type": "code",
   "execution_count": 9,
   "metadata": {},
   "outputs": [],
   "source": [
    "customer.drop(1400,axis=0,inplace= True)"
   ]
  },
  {
   "cell_type": "code",
   "execution_count": 10,
   "metadata": {},
   "outputs": [],
   "source": [
    "customer['Network type subscription in Month 1'] = customer['Network type subscription in Month 1'].fillna('3G')"
   ]
  },
  {
   "cell_type": "code",
   "execution_count": 11,
   "metadata": {},
   "outputs": [],
   "source": [
    "customer['Network type subscription in Month 2'] = customer['Network type subscription in Month 2'].fillna('3G')"
   ]
  },
  {
   "cell_type": "code",
   "execution_count": 12,
   "metadata": {},
   "outputs": [
    {
     "name": "stdout",
     "output_type": "stream",
     "text": [
      "<class 'pandas.core.frame.DataFrame'>\n",
      "Int64Index: 1400 entries, 0 to 1399\n",
      "Data columns (total 16 columns):\n",
      "Customer ID                                    1400 non-null object\n",
      "network_age                                    1400 non-null float64\n",
      "Customer tenure in month                       1400 non-null float64\n",
      "Total Spend in Months 1 and 2 of 2017          1400 non-null float64\n",
      "Total SMS Spend                                1400 non-null float64\n",
      "Total Data Spend                               1400 non-null float64\n",
      "Total Data Consumption                         1400 non-null float64\n",
      "Total Unique Calls                             1400 non-null float64\n",
      "Total Onnet spend                              1400 non-null float64\n",
      "Total Offnet spend                             1400 non-null float64\n",
      "Total Call centre complaint calls              1400 non-null float64\n",
      "Network type subscription in Month 1           1400 non-null object\n",
      "Network type subscription in Month 2           1400 non-null object\n",
      "Most Loved Competitor network in in Month 1    1399 non-null object\n",
      "Most Loved Competitor network in in Month 2    1399 non-null object\n",
      "Churn Status                                   1400 non-null float64\n",
      "dtypes: float64(11), object(5)\n",
      "memory usage: 158.6+ KB\n"
     ]
    }
   ],
   "source": [
    "customer.info()"
   ]
  },
  {
   "cell_type": "code",
   "execution_count": 13,
   "metadata": {},
   "outputs": [
    {
     "data": {
      "text/plain": [
       "0"
      ]
     },
     "execution_count": 13,
     "metadata": {},
     "output_type": "execute_result"
    }
   ],
   "source": [
    "customer['Network type subscription in Month 1'].isnull().sum()"
   ]
  },
  {
   "cell_type": "code",
   "execution_count": 14,
   "metadata": {},
   "outputs": [
    {
     "data": {
      "text/plain": [
       "0    PQza\n",
       "dtype: object"
      ]
     },
     "execution_count": 14,
     "metadata": {},
     "output_type": "execute_result"
    }
   ],
   "source": [
    "customer['Most Loved Competitor network in in Month 1'].mode()"
   ]
  },
  {
   "cell_type": "code",
   "execution_count": 15,
   "metadata": {},
   "outputs": [
    {
     "data": {
      "text/plain": [
       "0    Uxaa\n",
       "dtype: object"
      ]
     },
     "execution_count": 15,
     "metadata": {},
     "output_type": "execute_result"
    }
   ],
   "source": [
    "customer['Most Loved Competitor network in in Month 2'].mode()"
   ]
  },
  {
   "cell_type": "code",
   "execution_count": 16,
   "metadata": {},
   "outputs": [],
   "source": [
    "customer['Most Loved Competitor network in in Month 1'] = customer['Most Loved Competitor network in in Month 1'].fillna('PQza')"
   ]
  },
  {
   "cell_type": "code",
   "execution_count": 17,
   "metadata": {},
   "outputs": [],
   "source": [
    "customer['Most Loved Competitor network in in Month 2'] = customer['Most Loved Competitor network in in Month 2'].fillna('Uxaa')"
   ]
  },
  {
   "cell_type": "code",
   "execution_count": 18,
   "metadata": {},
   "outputs": [
    {
     "name": "stdout",
     "output_type": "stream",
     "text": [
      "<class 'pandas.core.frame.DataFrame'>\n",
      "Int64Index: 1400 entries, 0 to 1399\n",
      "Data columns (total 16 columns):\n",
      "Customer ID                                    1400 non-null object\n",
      "network_age                                    1400 non-null float64\n",
      "Customer tenure in month                       1400 non-null float64\n",
      "Total Spend in Months 1 and 2 of 2017          1400 non-null float64\n",
      "Total SMS Spend                                1400 non-null float64\n",
      "Total Data Spend                               1400 non-null float64\n",
      "Total Data Consumption                         1400 non-null float64\n",
      "Total Unique Calls                             1400 non-null float64\n",
      "Total Onnet spend                              1400 non-null float64\n",
      "Total Offnet spend                             1400 non-null float64\n",
      "Total Call centre complaint calls              1400 non-null float64\n",
      "Network type subscription in Month 1           1400 non-null object\n",
      "Network type subscription in Month 2           1400 non-null object\n",
      "Most Loved Competitor network in in Month 1    1400 non-null object\n",
      "Most Loved Competitor network in in Month 2    1400 non-null object\n",
      "Churn Status                                   1400 non-null float64\n",
      "dtypes: float64(11), object(5)\n",
      "memory usage: 158.6+ KB\n"
     ]
    }
   ],
   "source": [
    "customer.info()"
   ]
  },
  {
   "cell_type": "markdown",
   "metadata": {},
   "source": [
    "## Building the Model"
   ]
  },
  {
   "cell_type": "code",
   "execution_count": 19,
   "metadata": {},
   "outputs": [],
   "source": [
    "X = customer.drop([\"Customer ID\",\"Churn Status\"],axis=1).values"
   ]
  },
  {
   "cell_type": "code",
   "execution_count": 20,
   "metadata": {},
   "outputs": [],
   "source": [
    "y = customer[\"Churn Status\"].values"
   ]
  },
  {
   "cell_type": "code",
   "execution_count": 21,
   "metadata": {},
   "outputs": [],
   "source": [
    "from sklearn.preprocessing import LabelEncoder, OneHotEncoder\n",
    "label = LabelEncoder()\n",
    "X[:,10] = label.fit_transform(X[:,10])\n",
    "X[:,11] = label.fit_transform(X[:,11])\n",
    "X[:,12] = label.fit_transform(X[:,12])\n",
    "X[:,13] = label.fit_transform(X[:,13])"
   ]
  },
  {
   "cell_type": "code",
   "execution_count": 22,
   "metadata": {},
   "outputs": [
    {
     "name": "stderr",
     "output_type": "stream",
     "text": [
      "c:\\users\\aminu israel\\appdata\\local\\programs\\python\\python36-32\\lib\\site-packages\\sklearn\\preprocessing\\_encoders.py:371: FutureWarning: The handling of integer data will change in version 0.22. Currently, the categories are determined based on the range [0, max(values)], while in the future they will be determined based on the unique values.\n",
      "If you want the future behaviour and silence this warning, you can specify \"categories='auto'\".\n",
      "In case you used a LabelEncoder before this OneHotEncoder to convert the categories to integers, then you can now use the OneHotEncoder directly.\n",
      "  warnings.warn(msg, FutureWarning)\n",
      "c:\\users\\aminu israel\\appdata\\local\\programs\\python\\python36-32\\lib\\site-packages\\sklearn\\preprocessing\\_encoders.py:392: DeprecationWarning: The 'categorical_features' keyword is deprecated in version 0.20 and will be removed in 0.22. You can use the ColumnTransformer instead.\n",
      "  \"use the ColumnTransformer instead.\", DeprecationWarning)\n"
     ]
    }
   ],
   "source": [
    "encoder = OneHotEncoder(categorical_features=[10, 11, 12, 13])\n",
    "X = encoder.fit_transform(X).toarray()"
   ]
  },
  {
   "cell_type": "code",
   "execution_count": 23,
   "metadata": {},
   "outputs": [
    {
     "data": {
      "text/plain": [
       "array([[1.0000e+00, 0.0000e+00, 0.0000e+00, ..., 5.6400e+02, 6.4080e+03,\n",
       "        2.0000e+00],\n",
       "       [1.0000e+00, 0.0000e+00, 0.0000e+00, ..., 1.6260e+03, 4.3730e+03,\n",
       "        1.0000e+00],\n",
       "       [1.0000e+00, 0.0000e+00, 0.0000e+00, ..., 1.0411e+04, 2.2039e+04,\n",
       "        1.0000e+00],\n",
       "       ...,\n",
       "       [0.0000e+00, 1.0000e+00, 0.0000e+00, ..., 3.6000e+02, 8.1341e+04,\n",
       "        3.0000e+00],\n",
       "       [0.0000e+00, 1.0000e+00, 0.0000e+00, ..., 2.4000e+02, 3.6110e+03,\n",
       "        1.0000e+00],\n",
       "       [0.0000e+00, 1.0000e+00, 0.0000e+00, ..., 1.7280e+03, 1.0529e+04,\n",
       "        1.0000e+00]])"
      ]
     },
     "execution_count": 23,
     "metadata": {},
     "output_type": "execute_result"
    }
   ],
   "source": [
    "X"
   ]
  },
  {
   "cell_type": "code",
   "execution_count": 26,
   "metadata": {},
   "outputs": [],
   "source": [
    "from sklearn.model_selection import train_test_split\n",
    "X_train, X_test, y_train, y_test = train_test_split(X, y, test_size=0.33, random_state=42)"
   ]
  },
  {
   "cell_type": "code",
   "execution_count": 27,
   "metadata": {},
   "outputs": [],
   "source": [
    "from sklearn.preprocessing import StandardScaler\n",
    "sc = StandardScaler()\n",
    "X_train = sc.fit_transform(X_train)\n",
    "X_test = sc.fit_transform(X_test)"
   ]
  },
  {
   "cell_type": "markdown",
   "metadata": {},
   "source": [
    "USING THE LOGISTIC REGRESSION MODEL"
   ]
  },
  {
   "cell_type": "code",
   "execution_count": 28,
   "metadata": {},
   "outputs": [
    {
     "name": "stderr",
     "output_type": "stream",
     "text": [
      "c:\\users\\aminu israel\\appdata\\local\\programs\\python\\python36-32\\lib\\site-packages\\sklearn\\linear_model\\logistic.py:433: FutureWarning: Default solver will be changed to 'lbfgs' in 0.22. Specify a solver to silence this warning.\n",
      "  FutureWarning)\n"
     ]
    },
    {
     "data": {
      "text/plain": [
       "LogisticRegression(C=1.0, class_weight=None, dual=False, fit_intercept=True,\n",
       "          intercept_scaling=1, max_iter=100, multi_class='warn',\n",
       "          n_jobs=None, penalty='l2', random_state=None, solver='warn',\n",
       "          tol=0.0001, verbose=0, warm_start=False)"
      ]
     },
     "execution_count": 28,
     "metadata": {},
     "output_type": "execute_result"
    }
   ],
   "source": [
    "from sklearn.linear_model import LogisticRegression\n",
    "Lr = LogisticRegression()\n",
    "Lr.fit(X_train, y_train)"
   ]
  },
  {
   "cell_type": "code",
   "execution_count": 29,
   "metadata": {},
   "outputs": [
    {
     "data": {
      "text/plain": [
       "array([0., 0., 0., 0., 0., 0., 0., 0., 1., 1., 1., 1., 0., 0., 0., 0., 0.,\n",
       "       0., 0., 1., 1., 0., 0., 0., 1., 1., 1., 1., 0., 1., 0., 0., 0., 0.,\n",
       "       1., 1., 0., 0., 1., 1., 1., 0., 0., 1., 1., 1., 0., 0., 1., 0., 0.,\n",
       "       1., 0., 1., 1., 0., 1., 0., 0., 1., 0., 0., 0., 1., 1., 1., 0., 0.,\n",
       "       1., 0., 0., 0., 0., 0., 1., 0., 1., 1., 1., 1., 1., 1., 0., 0., 0.,\n",
       "       0., 0., 0., 1., 0., 1., 1., 1., 1., 0., 0., 0., 1., 0., 1., 1., 0.,\n",
       "       1., 1., 0., 0., 1., 1., 0., 0., 0., 0., 1., 0., 0., 1., 0., 0., 0.,\n",
       "       1., 1., 1., 0., 1., 0., 1., 1., 0., 0., 0., 0., 0., 1., 0., 1., 1.,\n",
       "       0., 0., 0., 0., 1., 1., 0., 1., 0., 1., 1., 1., 0., 1., 1., 1., 1.,\n",
       "       0., 1., 0., 1., 1., 0., 0., 0., 0., 1., 1., 0., 1., 1., 0., 0., 0.,\n",
       "       1., 0., 0., 0., 1., 0., 1., 1., 0., 1., 1., 0., 0., 0., 1., 1., 1.,\n",
       "       0., 0., 1., 0., 0., 1., 0., 1., 0., 0., 1., 0., 0., 1., 1., 0., 0.,\n",
       "       1., 0., 1., 0., 1., 0., 1., 1., 0., 1., 0., 1., 0., 0., 0., 0., 0.,\n",
       "       1., 1., 0., 0., 1., 1., 1., 0., 1., 0., 0., 0., 1., 1., 1., 0., 0.,\n",
       "       1., 0., 0., 0., 0., 1., 1., 1., 1., 1., 0., 1., 1., 0., 0., 0., 0.,\n",
       "       0., 0., 0., 0., 0., 0., 0., 1., 0., 1., 1., 1., 1., 1., 0., 0., 0.,\n",
       "       0., 0., 1., 0., 0., 1., 1., 1., 0., 1., 0., 1., 0., 1., 0., 0., 1.,\n",
       "       0., 1., 0., 1., 1., 0., 0., 0., 0., 1., 0., 0., 1., 0., 0., 1., 1.,\n",
       "       1., 0., 0., 1., 1., 1., 1., 0., 1., 0., 0., 1., 1., 1., 0., 0., 1.,\n",
       "       1., 1., 0., 1., 0., 1., 0., 1., 0., 0., 1., 0., 1., 1., 1., 0., 0.,\n",
       "       0., 0., 1., 1., 1., 0., 0., 0., 1., 1., 1., 0., 1., 1., 1., 0., 1.,\n",
       "       0., 1., 0., 1., 0., 1., 0., 0., 1., 1., 0., 1., 0., 0., 0., 1., 0.,\n",
       "       0., 0., 1., 0., 1., 0., 0., 1., 1., 1., 0., 1., 1., 0., 1., 1., 1.,\n",
       "       0., 0., 0., 0., 0., 1., 1., 1., 0., 0., 0., 0., 1., 1., 1., 1., 0.,\n",
       "       1., 1., 0., 1., 1., 0., 0., 1., 0., 1., 1., 0., 1., 1., 1., 0., 0.,\n",
       "       1., 0., 1., 1., 0., 0., 1., 1., 1., 0., 1., 1., 0., 0., 1., 0., 1.,\n",
       "       1., 1., 1., 1., 1., 1., 0., 0., 1., 1., 1., 1., 1., 1., 1., 1., 0.,\n",
       "       0., 1., 0.])"
      ]
     },
     "execution_count": 29,
     "metadata": {},
     "output_type": "execute_result"
    }
   ],
   "source": [
    "impred = Lr.predict(X_test)\n",
    "impred"
   ]
  },
  {
   "cell_type": "code",
   "execution_count": 30,
   "metadata": {},
   "outputs": [
    {
     "data": {
      "text/plain": [
       "array([[159,  68],\n",
       "       [ 79, 156]], dtype=int64)"
      ]
     },
     "execution_count": 30,
     "metadata": {},
     "output_type": "execute_result"
    }
   ],
   "source": [
    "from sklearn.metrics import confusion_matrix, classification_report\n",
    "cm = confusion_matrix(y_test, impred)\n",
    "cm"
   ]
  },
  {
   "cell_type": "code",
   "execution_count": 31,
   "metadata": {},
   "outputs": [
    {
     "name": "stdout",
     "output_type": "stream",
     "text": [
      "              precision    recall  f1-score   support\n",
      "\n",
      "         0.0       0.67      0.70      0.68       227\n",
      "         1.0       0.70      0.66      0.68       235\n",
      "\n",
      "   micro avg       0.68      0.68      0.68       462\n",
      "   macro avg       0.68      0.68      0.68       462\n",
      "weighted avg       0.68      0.68      0.68       462\n",
      "\n"
     ]
    }
   ],
   "source": [
    "print(classification_report(y_test,impred))"
   ]
  },
  {
   "cell_type": "code",
   "execution_count": null,
   "metadata": {},
   "outputs": [],
   "source": []
  }
 ],
 "metadata": {
  "kernelspec": {
   "display_name": "Python 3",
   "language": "python",
   "name": "python3"
  },
  "language_info": {
   "codemirror_mode": {
    "name": "ipython",
    "version": 3
   },
   "file_extension": ".py",
   "mimetype": "text/x-python",
   "name": "python",
   "nbconvert_exporter": "python",
   "pygments_lexer": "ipython3",
   "version": "3.7.3"
  }
 },
 "nbformat": 4,
 "nbformat_minor": 2
}
